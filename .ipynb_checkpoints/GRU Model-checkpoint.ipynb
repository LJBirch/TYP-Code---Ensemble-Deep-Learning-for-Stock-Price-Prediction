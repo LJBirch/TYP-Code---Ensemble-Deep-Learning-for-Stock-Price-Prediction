{
 "cells": [
  {
   "cell_type": "code",
   "execution_count": 568,
   "id": "fundamental-korean",
   "metadata": {},
   "outputs": [],
   "source": [
    "import numpy as np\n",
    "import pandas as pd\n",
    "import matplotlib.pyplot as plt\n",
    "\n",
    "from keras.models import Sequential, Model\n",
    "from keras.layers import Dense, Activation, Dropout, LSTM, GRU, Input\n",
    "\n",
    "from sklearn.model_selection import train_test_split\n",
    "from sklearn.preprocessing import MinMaxScaler\n",
    "from sklearn.metrics import mean_squared_error, recall_score, precision_score, f1_score"
   ]
  },
  {
   "cell_type": "code",
   "execution_count": 569,
   "id": "completed-married",
   "metadata": {},
   "outputs": [],
   "source": [
    "# Load in data from CSV.\n",
    "df = pd.read_csv(\"./data/source_price_alt.csv\");"
   ]
  },
  {
   "cell_type": "code",
   "execution_count": 570,
   "id": "received-internet",
   "metadata": {},
   "outputs": [],
   "source": [
    "# Convert index to date.\n",
    "df.index = df.date;\n",
    "df.drop('date', axis=1, inplace = True);"
   ]
  },
  {
   "cell_type": "code",
   "execution_count": 571,
   "id": "informative-market",
   "metadata": {},
   "outputs": [],
   "source": [
    "# Extract adjusted close column.\n",
    "adjust_close = df.iloc[:,-1].values; \n",
    "\n",
    "# Normalize adjusted close data.\n",
    "scaler = MinMaxScaler();\n",
    "scaled_adjust_close = scaler.fit_transform(adjust_close.reshape(-1,1));\n",
    "\n",
    "# Remove un-normalized column.\n",
    "source_data = df.drop(['Adj Close'], axis=1)\n",
    "\n",
    "# Set new column with normalized data.\n",
    "source_data[\"scaled_adj_close\"] = scaled_adjust_close"
   ]
  },
  {
   "cell_type": "code",
   "execution_count": 572,
   "id": "cutting-boulder",
   "metadata": {},
   "outputs": [],
   "source": [
    "# Split into train test split.\n",
    "train_validation_data, test_data = train_test_split(source_data, train_size=0.85, test_size=0.15, shuffle = False);"
   ]
  },
  {
   "cell_type": "code",
   "execution_count": 573,
   "id": "generic-inclusion",
   "metadata": {},
   "outputs": [],
   "source": [
    "validation_data = train_validation_data[83:];\n",
    "train_data = train_validation_data[:83];"
   ]
  },
  {
   "cell_type": "code",
   "execution_count": 574,
   "id": "wrapped-perception",
   "metadata": {},
   "outputs": [],
   "source": [
    "# Split data into input X and output Y, by splitting into 'n' past days as input X and `m` coming days as Y.\n",
    "def processData(data, look_back, forward_days,jump=1):\n",
    "    A,B = [],[]\n",
    "    for i in range(0, len(data) - look_back, jump):\n",
    "        A.append(data[i:(i + look_back)])\n",
    "        B.append(data[(i + look_back):(i + look_back + forward_days)])\n",
    "    return np.array(A), np.array(B)"
   ]
  },
  {
   "cell_type": "code",
   "execution_count": 575,
   "id": "proved-deployment",
   "metadata": {},
   "outputs": [],
   "source": [
    "# Set model configurations.\n",
    "look_back = 9\n",
    "forward_days = 1\n",
    "NUM_NEURONS = 30\n",
    "EPOCHES = 100\n",
    "BATCH_SIZE = 32\n",
    "DROUP_OUT = 0.2"
   ]
  },
  {
   "cell_type": "code",
   "execution_count": 576,
   "id": "mounted-disabled",
   "metadata": {},
   "outputs": [],
   "source": [
    "# Split into past and coming days.\n",
    "m_training_data = train_data.to_numpy()\n",
    "m_validation_data = validation_data.to_numpy()\n",
    "m_test_data = test_data.to_numpy()\n",
    "\n",
    "X_train, Y_train = processData(m_training_data, look_back, forward_days)\n",
    "X_validation, Y_validation = processData(m_validation_data, look_back, forward_days)\n",
    "X_test, Y_test = processData(m_test_data, look_back, forward_days)\n",
    "\n",
    "Y_train = Y_train[:,0,-1]\n",
    "Y_validation = Y_validation[:,0,-1]\n",
    "Y_test = Y_test[:,0,-1]"
   ]
  },
  {
   "cell_type": "code",
   "execution_count": 577,
   "id": "individual-valuable",
   "metadata": {},
   "outputs": [],
   "source": [
    "# Setup GRU Model\n",
    "gru_model = Sequential()\n",
    "\n",
    "# Input Layer\n",
    "gru_model.add(GRU(units = NUM_NEURONS, return_sequences = True, input_shape = (X_train.shape[1], X_train.shape[2])))\n",
    "gru_model.add(Dropout(DROUP_OUT))\n",
    "\n",
    "# Hidden Layer 1\n",
    "gru_model.add(GRU(units = NUM_NEURONS, return_sequences = True))\n",
    "gru_model.add(Dropout(DROUP_OUT))\n",
    "\n",
    "# Hidden Layer 2\n",
    "gru_model.add(GRU(units = NUM_NEURONS, return_sequences = True))\n",
    "gru_model.add(Dropout(DROUP_OUT))\n",
    "\n",
    "# Hidden Layer 3\n",
    "gru_model.add(GRU(units = NUM_NEURONS))\n",
    "gru_model.add(Dropout(DROUP_OUT))\n",
    "\n",
    "# Output Layer\n",
    "gru_model.add(Dense(forward_days))"
   ]
  },
  {
   "cell_type": "code",
   "execution_count": 578,
   "id": "recorded-antibody",
   "metadata": {},
   "outputs": [
    {
     "name": "stdout",
     "output_type": "stream",
     "text": [
      "Epoch 1/100\n",
      "3/3 [==============================] - 7s 13ms/step - loss: 0.2342\n",
      "Epoch 2/100\n",
      "3/3 [==============================] - 0s 12ms/step - loss: 0.0786\n",
      "Epoch 3/100\n",
      "3/3 [==============================] - 0s 12ms/step - loss: 0.0619\n",
      "Epoch 4/100\n",
      "3/3 [==============================] - 0s 11ms/step - loss: 0.0501\n",
      "Epoch 5/100\n",
      "3/3 [==============================] - 0s 11ms/step - loss: 0.0575\n",
      "Epoch 6/100\n",
      "3/3 [==============================] - 0s 11ms/step - loss: 0.0462\n",
      "Epoch 7/100\n",
      "3/3 [==============================] - 0s 11ms/step - loss: 0.0483\n",
      "Epoch 8/100\n",
      "3/3 [==============================] - 0s 11ms/step - loss: 0.0518\n",
      "Epoch 9/100\n",
      "3/3 [==============================] - 0s 11ms/step - loss: 0.0590\n",
      "Epoch 10/100\n",
      "3/3 [==============================] - 0s 11ms/step - loss: 0.0489\n",
      "Epoch 11/100\n",
      "3/3 [==============================] - 0s 12ms/step - loss: 0.0441\n",
      "Epoch 12/100\n",
      "3/3 [==============================] - 0s 11ms/step - loss: 0.0599\n",
      "Epoch 13/100\n",
      "3/3 [==============================] - 0s 10ms/step - loss: 0.0401\n",
      "Epoch 14/100\n",
      "3/3 [==============================] - 0s 11ms/step - loss: 0.0571\n",
      "Epoch 15/100\n",
      "3/3 [==============================] - 0s 11ms/step - loss: 0.0382\n",
      "Epoch 16/100\n",
      "3/3 [==============================] - 0s 11ms/step - loss: 0.0373\n",
      "Epoch 17/100\n",
      "3/3 [==============================] - 0s 11ms/step - loss: 0.0440\n",
      "Epoch 18/100\n",
      "3/3 [==============================] - 0s 11ms/step - loss: 0.0507\n",
      "Epoch 19/100\n",
      "3/3 [==============================] - 0s 11ms/step - loss: 0.0361\n",
      "Epoch 20/100\n",
      "3/3 [==============================] - 0s 11ms/step - loss: 0.0331\n",
      "Epoch 21/100\n",
      "3/3 [==============================] - 0s 11ms/step - loss: 0.0370\n",
      "Epoch 22/100\n",
      "3/3 [==============================] - 0s 11ms/step - loss: 0.0339\n",
      "Epoch 23/100\n",
      "3/3 [==============================] - 0s 11ms/step - loss: 0.0314\n",
      "Epoch 24/100\n",
      "3/3 [==============================] - 0s 11ms/step - loss: 0.0425\n",
      "Epoch 25/100\n",
      "3/3 [==============================] - 0s 10ms/step - loss: 0.0386\n",
      "Epoch 26/100\n",
      "3/3 [==============================] - 0s 11ms/step - loss: 0.0473\n",
      "Epoch 27/100\n",
      "3/3 [==============================] - 0s 11ms/step - loss: 0.0389\n",
      "Epoch 28/100\n",
      "3/3 [==============================] - 0s 11ms/step - loss: 0.0339\n",
      "Epoch 29/100\n",
      "3/3 [==============================] - 0s 11ms/step - loss: 0.0326\n",
      "Epoch 30/100\n",
      "3/3 [==============================] - 0s 11ms/step - loss: 0.0369\n",
      "Epoch 31/100\n",
      "3/3 [==============================] - 0s 11ms/step - loss: 0.0307\n",
      "Epoch 32/100\n",
      "3/3 [==============================] - 0s 11ms/step - loss: 0.0289\n",
      "Epoch 33/100\n",
      "3/3 [==============================] - 0s 11ms/step - loss: 0.0346\n",
      "Epoch 34/100\n",
      "3/3 [==============================] - 0s 11ms/step - loss: 0.0280\n",
      "Epoch 35/100\n",
      "3/3 [==============================] - 0s 11ms/step - loss: 0.0330\n",
      "Epoch 36/100\n",
      "3/3 [==============================] - 0s 11ms/step - loss: 0.0249\n",
      "Epoch 37/100\n",
      "3/3 [==============================] - 0s 11ms/step - loss: 0.0432\n",
      "Epoch 38/100\n",
      "3/3 [==============================] - 0s 11ms/step - loss: 0.0333\n",
      "Epoch 39/100\n",
      "3/3 [==============================] - 0s 11ms/step - loss: 0.0311\n",
      "Epoch 40/100\n",
      "3/3 [==============================] - 0s 11ms/step - loss: 0.0319\n",
      "Epoch 41/100\n",
      "3/3 [==============================] - 0s 11ms/step - loss: 0.0239\n",
      "Epoch 42/100\n",
      "3/3 [==============================] - 0s 11ms/step - loss: 0.0304\n",
      "Epoch 43/100\n",
      "3/3 [==============================] - 0s 11ms/step - loss: 0.0358\n",
      "Epoch 44/100\n",
      "3/3 [==============================] - 0s 11ms/step - loss: 0.0403\n",
      "Epoch 45/100\n",
      "3/3 [==============================] - 0s 11ms/step - loss: 0.0235\n",
      "Epoch 46/100\n",
      "3/3 [==============================] - 0s 12ms/step - loss: 0.0208\n",
      "Epoch 47/100\n",
      "3/3 [==============================] - 0s 11ms/step - loss: 0.0267\n",
      "Epoch 48/100\n",
      "3/3 [==============================] - 0s 11ms/step - loss: 0.0223\n",
      "Epoch 49/100\n",
      "3/3 [==============================] - 0s 11ms/step - loss: 0.0309\n",
      "Epoch 50/100\n",
      "3/3 [==============================] - 0s 11ms/step - loss: 0.0243\n",
      "Epoch 51/100\n",
      "3/3 [==============================] - 0s 11ms/step - loss: 0.0301\n",
      "Epoch 52/100\n",
      "3/3 [==============================] - 0s 11ms/step - loss: 0.0219\n",
      "Epoch 53/100\n",
      "3/3 [==============================] - 0s 11ms/step - loss: 0.0379\n",
      "Epoch 54/100\n",
      "3/3 [==============================] - 0s 11ms/step - loss: 0.0243\n",
      "Epoch 55/100\n",
      "3/3 [==============================] - 0s 11ms/step - loss: 0.0336\n",
      "Epoch 56/100\n",
      "3/3 [==============================] - 0s 10ms/step - loss: 0.0217\n",
      "Epoch 57/100\n",
      "3/3 [==============================] - 0s 10ms/step - loss: 0.0177\n",
      "Epoch 58/100\n",
      "3/3 [==============================] - 0s 10ms/step - loss: 0.0262\n",
      "Epoch 59/100\n",
      "3/3 [==============================] - 0s 10ms/step - loss: 0.0202\n",
      "Epoch 60/100\n",
      "3/3 [==============================] - 0s 10ms/step - loss: 0.0170\n",
      "Epoch 61/100\n",
      "3/3 [==============================] - 0s 11ms/step - loss: 0.0290\n",
      "Epoch 62/100\n",
      "3/3 [==============================] - 0s 10ms/step - loss: 0.0142\n",
      "Epoch 63/100\n",
      "3/3 [==============================] - 0s 11ms/step - loss: 0.0302\n",
      "Epoch 64/100\n",
      "3/3 [==============================] - 0s 10ms/step - loss: 0.0290\n",
      "Epoch 65/100\n",
      "3/3 [==============================] - 0s 10ms/step - loss: 0.0235\n",
      "Epoch 66/100\n",
      "3/3 [==============================] - 0s 10ms/step - loss: 0.0290\n",
      "Epoch 67/100\n",
      "3/3 [==============================] - 0s 10ms/step - loss: 0.0200\n",
      "Epoch 68/100\n",
      "3/3 [==============================] - 0s 10ms/step - loss: 0.0231\n",
      "Epoch 69/100\n",
      "3/3 [==============================] - 0s 10ms/step - loss: 0.0203\n",
      "Epoch 70/100\n",
      "3/3 [==============================] - 0s 10ms/step - loss: 0.0195\n",
      "Epoch 71/100\n",
      "3/3 [==============================] - 0s 10ms/step - loss: 0.0216\n",
      "Epoch 72/100\n",
      "3/3 [==============================] - 0s 10ms/step - loss: 0.0235\n",
      "Epoch 73/100\n",
      "3/3 [==============================] - 0s 12ms/step - loss: 0.0186\n",
      "Epoch 74/100\n",
      "3/3 [==============================] - 0s 12ms/step - loss: 0.0204\n",
      "Epoch 75/100\n",
      "3/3 [==============================] - 0s 10ms/step - loss: 0.0205\n",
      "Epoch 76/100\n",
      "3/3 [==============================] - 0s 10ms/step - loss: 0.0175\n",
      "Epoch 77/100\n",
      "3/3 [==============================] - 0s 11ms/step - loss: 0.0245\n",
      "Epoch 78/100\n",
      "3/3 [==============================] - 0s 10ms/step - loss: 0.0222\n",
      "Epoch 79/100\n",
      "3/3 [==============================] - 0s 11ms/step - loss: 0.0202\n",
      "Epoch 80/100\n",
      "3/3 [==============================] - 0s 10ms/step - loss: 0.0194\n",
      "Epoch 81/100\n",
      "3/3 [==============================] - 0s 10ms/step - loss: 0.0196\n",
      "Epoch 82/100\n",
      "3/3 [==============================] - 0s 10ms/step - loss: 0.0196\n",
      "Epoch 83/100\n",
      "3/3 [==============================] - 0s 10ms/step - loss: 0.0137\n",
      "Epoch 84/100\n",
      "3/3 [==============================] - 0s 10ms/step - loss: 0.0241\n",
      "Epoch 85/100\n",
      "3/3 [==============================] - 0s 10ms/step - loss: 0.0242\n",
      "Epoch 86/100\n",
      "3/3 [==============================] - 0s 10ms/step - loss: 0.0156\n",
      "Epoch 87/100\n",
      "3/3 [==============================] - 0s 10ms/step - loss: 0.0309\n",
      "Epoch 88/100\n",
      "3/3 [==============================] - 0s 10ms/step - loss: 0.0149\n",
      "Epoch 89/100\n",
      "3/3 [==============================] - 0s 11ms/step - loss: 0.0142\n",
      "Epoch 90/100\n",
      "3/3 [==============================] - 0s 10ms/step - loss: 0.0157\n",
      "Epoch 91/100\n",
      "3/3 [==============================] - 0s 10ms/step - loss: 0.0245\n",
      "Epoch 92/100\n",
      "3/3 [==============================] - 0s 10ms/step - loss: 0.0188\n",
      "Epoch 93/100\n",
      "3/3 [==============================] - 0s 10ms/step - loss: 0.0253\n",
      "Epoch 94/100\n",
      "3/3 [==============================] - 0s 10ms/step - loss: 0.0162\n",
      "Epoch 95/100\n",
      "3/3 [==============================] - 0s 11ms/step - loss: 0.0154\n",
      "Epoch 96/100\n",
      "3/3 [==============================] - 0s 11ms/step - loss: 0.0196\n",
      "Epoch 97/100\n",
      "3/3 [==============================] - 0s 10ms/step - loss: 0.0155\n",
      "Epoch 98/100\n",
      "3/3 [==============================] - 0s 11ms/step - loss: 0.0185\n",
      "Epoch 99/100\n",
      "3/3 [==============================] - 0s 10ms/step - loss: 0.0313\n",
      "Epoch 100/100\n",
      "3/3 [==============================] - 0s 10ms/step - loss: 0.0159\n",
      "WARNING:tensorflow:11 out of the last 11 calls to <function Model.make_predict_function.<locals>.predict_function at 0x0000024922BBCB80> triggered tf.function retracing. Tracing is expensive and the excessive number of tracings could be due to (1) creating @tf.function repeatedly in a loop, (2) passing tensors with different shapes, (3) passing Python objects instead of tensors. For (1), please define your @tf.function outside of the loop. For (2), @tf.function has experimental_relax_shapes=True option that relaxes argument shapes that can avoid unnecessary retracing. For (3), please refer to https://www.tensorflow.org/guide/function#controlling_retracing and https://www.tensorflow.org/api_docs/python/tf/function for  more details.\n"
     ]
    }
   ],
   "source": [
    "# Compile GRU models.\n",
    "gru_model.compile(loss='mean_squared_error', optimizer='rmsprop')\n",
    "\n",
    "# Fit GRU models to training set.\n",
    "gru_model.fit(X_train, Y_train, epochs = EPOCHES, batch_size = BATCH_SIZE)\n",
    "\n",
    "# Generate predictions from test set.\n",
    "gru_predictions = gru_model.predict(X_test)"
   ]
  },
  {
   "cell_type": "code",
   "execution_count": 579,
   "id": "pointed-guyana",
   "metadata": {},
   "outputs": [
    {
     "data": {
      "text/plain": [
       "(10, 1)"
      ]
     },
     "execution_count": 579,
     "metadata": {},
     "output_type": "execute_result"
    }
   ],
   "source": [
    "# Scale values.\n",
    "gru_X_test_scaled = scaler.inverse_transform(gru_predictions)\n",
    "Y_test = Y_test.reshape(-1, 1)\n",
    "Y_test_scaled = scaler.inverse_transform(Y_test)\n",
    "gru_X_test_scaled.shape"
   ]
  },
  {
   "cell_type": "code",
   "execution_count": 580,
   "id": "solved-identity",
   "metadata": {},
   "outputs": [],
   "source": [
    "def convert_to_classifier(values, debug=False):\n",
    "    binary_results = np.zeros(len(values) - 1)\n",
    "    for idx, val in enumerate(values):\n",
    "        if idx < 1:\n",
    "            continue\n",
    "        if values[idx] > values[idx - 1]:\n",
    "            binary_results[idx - 1] = 1\n",
    "            if debug:\n",
    "                print(f'Increase: {values[idx]} vs {values[idx - 1]}')\n",
    "        else:\n",
    "            if debug:\n",
    "                print(f'Decrease: {values[idx]} vs {values[idx - 1]}')\n",
    "            \n",
    "    return binary_results"
   ]
  },
  {
   "cell_type": "code",
   "execution_count": 581,
   "id": "american-joshua",
   "metadata": {},
   "outputs": [],
   "source": [
    "def calc_mda(test_binary, prediction_binary, debug=False):\n",
    "    correct_predictions = 0\n",
    "    for idx, val in enumerate(test_binary):\n",
    "        if debug:\n",
    "            print(f'Predicted: {prediction_binary[idx]} vs actual {test_binary[idx]}')\n",
    "        if prediction_binary[idx] == test_binary[idx]:\n",
    "            correct_predictions = correct_predictions + 1\n",
    "    \n",
    "    if debug:\n",
    "        print(f'Correct Predictions: {correct_predictions} out of {len(prediction_binary)}.')\n",
    "    \n",
    "    mda = correct_predictions / len(prediction_binary)\n",
    "    return mda"
   ]
  },
  {
   "cell_type": "code",
   "execution_count": 582,
   "id": "loved-audio",
   "metadata": {},
   "outputs": [],
   "source": [
    "gru_mse = mean_squared_error(gru_X_test_scaled, Y_test_scaled)\n",
    "prediction_binary = convert_to_classifier(gru_X_test_scaled, debug=False)\n",
    "test_binary = convert_to_classifier(Y_test_scaled, debug=False)\n",
    "mda = calc_mda(test_binary, prediction_binary)\n"
   ]
  },
  {
   "cell_type": "code",
   "execution_count": 583,
   "id": "recreational-alpha",
   "metadata": {},
   "outputs": [],
   "source": [
    "# Calculate recall.\n",
    "recall = recall_score(test_binary, prediction_binary)\n",
    "\n",
    "# Calculate precision.\n",
    "precision = precision_score(test_binary, prediction_binary)\n",
    "\n",
    "# Calculate f1_score.\n",
    "f1_score = f1_score(test_binary, prediction_binary)"
   ]
  },
  {
   "cell_type": "code",
   "execution_count": 584,
   "id": "sustained-cream",
   "metadata": {
    "scrolled": true
   },
   "outputs": [
    {
     "data": {
      "text/plain": [
       "0.25"
      ]
     },
     "execution_count": 584,
     "metadata": {},
     "output_type": "execute_result"
    }
   ],
   "source": [
    "recall"
   ]
  },
  {
   "cell_type": "code",
   "execution_count": 585,
   "id": "sought-survival",
   "metadata": {},
   "outputs": [
    {
     "data": {
      "text/plain": [
       "0.25"
      ]
     },
     "execution_count": 585,
     "metadata": {},
     "output_type": "execute_result"
    }
   ],
   "source": [
    "precision"
   ]
  },
  {
   "cell_type": "code",
   "execution_count": 586,
   "id": "indie-administrator",
   "metadata": {},
   "outputs": [
    {
     "data": {
      "text/plain": [
       "0.25"
      ]
     },
     "execution_count": 586,
     "metadata": {},
     "output_type": "execute_result"
    }
   ],
   "source": [
    "f1_score"
   ]
  },
  {
   "cell_type": "code",
   "execution_count": 587,
   "id": "binding-seattle",
   "metadata": {},
   "outputs": [
    {
     "data": {
      "text/plain": [
       "0.3333333333333333"
      ]
     },
     "execution_count": 587,
     "metadata": {},
     "output_type": "execute_result"
    }
   ],
   "source": [
    "mda"
   ]
  },
  {
   "cell_type": "code",
   "execution_count": 588,
   "id": "inner-celtic",
   "metadata": {},
   "outputs": [
    {
     "data": {
      "text/plain": [
       "297.0602011363657"
      ]
     },
     "execution_count": 588,
     "metadata": {},
     "output_type": "execute_result"
    }
   ],
   "source": [
    "gru_mse"
   ]
  }
 ],
 "metadata": {
  "kernelspec": {
   "display_name": "Python 3",
   "language": "python",
   "name": "python3"
  },
  "language_info": {
   "codemirror_mode": {
    "name": "ipython",
    "version": 3
   },
   "file_extension": ".py",
   "mimetype": "text/x-python",
   "name": "python",
   "nbconvert_exporter": "python",
   "pygments_lexer": "ipython3",
   "version": "3.8.0"
  }
 },
 "nbformat": 4,
 "nbformat_minor": 5
}
