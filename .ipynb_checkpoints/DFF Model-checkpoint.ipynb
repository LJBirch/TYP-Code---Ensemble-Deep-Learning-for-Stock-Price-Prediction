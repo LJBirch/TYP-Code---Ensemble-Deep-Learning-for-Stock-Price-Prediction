{
 "cells": [
  {
   "cell_type": "code",
   "execution_count": 631,
   "id": "fundamental-korean",
   "metadata": {},
   "outputs": [],
   "source": [
    "import numpy as np\n",
    "import pandas as pd\n",
    "import matplotlib.pyplot as plt\n",
    "\n",
    "from keras.models import Sequential, Model\n",
    "from keras.layers import Dense, Activation, Dropout, LSTM, GRU, Input, Flatten\n",
    "\n",
    "from sklearn.model_selection import train_test_split\n",
    "from sklearn.preprocessing import MinMaxScaler\n",
    "from sklearn.metrics import mean_squared_error, recall_score, precision_score, f1_score"
   ]
  },
  {
   "cell_type": "code",
   "execution_count": 632,
   "id": "completed-married",
   "metadata": {},
   "outputs": [],
   "source": [
    "# Load in data from CSV.\n",
    "df = pd.read_csv(\"./data/source_price_alt.csv\");"
   ]
  },
  {
   "cell_type": "code",
   "execution_count": 633,
   "id": "received-internet",
   "metadata": {},
   "outputs": [],
   "source": [
    "# Convert index to date.\n",
    "df.index = df.date;\n",
    "df.drop('date', axis=1, inplace = True);"
   ]
  },
  {
   "cell_type": "code",
   "execution_count": 634,
   "id": "informative-market",
   "metadata": {},
   "outputs": [],
   "source": [
    "# Extract adjusted close column.\n",
    "adjust_close = df.iloc[:,-1].values; \n",
    "\n",
    "# Normalize adjusted close data.\n",
    "scaler = MinMaxScaler();\n",
    "scaled_adjust_close = scaler.fit_transform(adjust_close.reshape(-1,1));\n",
    "\n",
    "# Remove un-normalized column.\n",
    "source_data = df.drop(['Adj Close'], axis=1)\n",
    "\n",
    "# Set new column with normalized data.\n",
    "source_data[\"scaled_adj_close\"] = scaled_adjust_close"
   ]
  },
  {
   "cell_type": "code",
   "execution_count": 635,
   "id": "cutting-boulder",
   "metadata": {},
   "outputs": [],
   "source": [
    "# Split into train test split.\n",
    "train_validation_data, test_data = train_test_split(source_data, train_size=0.85, test_size=0.15, shuffle = False);"
   ]
  },
  {
   "cell_type": "code",
   "execution_count": 636,
   "id": "generic-inclusion",
   "metadata": {},
   "outputs": [],
   "source": [
    "validation_data = train_validation_data[83:];\n",
    "train_data = train_validation_data[:83];"
   ]
  },
  {
   "cell_type": "code",
   "execution_count": 637,
   "id": "wrapped-perception",
   "metadata": {},
   "outputs": [],
   "source": [
    "# Split data into input X and output Y, by splitting into 'n' past days as input X and `m` coming days as Y.\n",
    "def processData(data, look_back, forward_days,jump=1):\n",
    "    A,B = [],[]\n",
    "    for i in range(0, len(data) - look_back, jump):\n",
    "        A.append(data[i:(i + look_back)])\n",
    "        B.append(data[(i + look_back):(i + look_back + forward_days)])\n",
    "    return np.array(A), np.array(B)"
   ]
  },
  {
   "cell_type": "code",
   "execution_count": 638,
   "id": "proved-deployment",
   "metadata": {},
   "outputs": [],
   "source": [
    "# Set model configurations.\n",
    "look_back = 9\n",
    "forward_days = 1\n",
    "NUM_NEURONS = 50\n",
    "EPOCHES = 100\n",
    "BATCH_SIZE = 32\n",
    "DROUP_OUT = 0.2"
   ]
  },
  {
   "cell_type": "code",
   "execution_count": 639,
   "id": "mounted-disabled",
   "metadata": {},
   "outputs": [],
   "source": [
    "# Split into past and coming days.\n",
    "m_training_data = train_data.to_numpy()\n",
    "m_validation_data = validation_data.to_numpy()\n",
    "m_test_data = test_data.to_numpy()\n",
    "\n",
    "X_train, Y_train = processData(m_training_data, look_back, forward_days)\n",
    "X_validation, Y_validation = processData(m_validation_data, look_back, forward_days)\n",
    "X_test, Y_test = processData(m_test_data, look_back, forward_days)\n",
    "\n",
    "Y_train = Y_train[:,0,-1]\n",
    "Y_validation = Y_validation[:,0,-1]\n",
    "Y_test = Y_test[:,0,-1]"
   ]
  },
  {
   "cell_type": "code",
   "execution_count": 640,
   "id": "individual-valuable",
   "metadata": {},
   "outputs": [],
   "source": [
    "# Generate generic sequential model.\n",
    "dff_model = Sequential()\n",
    "\n",
    "# Desired activation function.\n",
    "activ_func = \"relu\"\n",
    "\n",
    "# Set input layer and size.\n",
    "dff_model.add(Flatten(input_shape = (X_train.shape[1], X_train.shape[2])))\n",
    "\n",
    "# Hidden Layer 1\n",
    "dff_model.add(Dense(18, activation=activ_func))\n",
    "\n",
    "# Hidden Layer 2\n",
    "dff_model.add(Dense(9, activation=activ_func))\n",
    "\n",
    "# Hidden Layer 3\n",
    "dff_model.add(Dense(2, activation=activ_func))\n",
    "\n",
    "# Output Layer\n",
    "dff_model.add(Dense(1, activation=activ_func))"
   ]
  },
  {
   "cell_type": "code",
   "execution_count": 641,
   "id": "recorded-antibody",
   "metadata": {},
   "outputs": [
    {
     "name": "stdout",
     "output_type": "stream",
     "text": [
      "Epoch 1/100\n",
      "3/3 [==============================] - 1s 2ms/step - loss: 0.2288 - mae: 0.4113\n",
      "Epoch 2/100\n",
      "3/3 [==============================] - 0s 1ms/step - loss: 0.1810 - mae: 0.3641\n",
      "Epoch 3/100\n",
      "3/3 [==============================] - 0s 1ms/step - loss: 0.1530 - mae: 0.3358\n",
      "Epoch 4/100\n",
      "3/3 [==============================] - 0s 2ms/step - loss: 0.1344 - mae: 0.3193\n",
      "Epoch 5/100\n",
      "3/3 [==============================] - 0s 1ms/step - loss: 0.1147 - mae: 0.2953\n",
      "Epoch 6/100\n",
      "3/3 [==============================] - 0s 2ms/step - loss: 0.1008 - mae: 0.2746\n",
      "Epoch 7/100\n",
      "3/3 [==============================] - 0s 2ms/step - loss: 0.0915 - mae: 0.2618\n",
      "Epoch 8/100\n",
      "3/3 [==============================] - 0s 2ms/step - loss: 0.0800 - mae: 0.2442\n",
      "Epoch 9/100\n",
      "3/3 [==============================] - 0s 2ms/step - loss: 0.0645 - mae: 0.2182\n",
      "Epoch 10/100\n",
      "3/3 [==============================] - 0s 2ms/step - loss: 0.0553 - mae: 0.2019\n",
      "Epoch 11/100\n",
      "3/3 [==============================] - 0s 2ms/step - loss: 0.0537 - mae: 0.1963\n",
      "Epoch 12/100\n",
      "3/3 [==============================] - 0s 2ms/step - loss: 0.0511 - mae: 0.1905\n",
      "Epoch 13/100\n",
      "3/3 [==============================] - 0s 1ms/step - loss: 0.0470 - mae: 0.1802\n",
      "Epoch 14/100\n",
      "3/3 [==============================] - 0s 1ms/step - loss: 0.0405 - mae: 0.1651\n",
      "Epoch 15/100\n",
      "3/3 [==============================] - 0s 2ms/step - loss: 0.0376 - mae: 0.1582\n",
      "Epoch 16/100\n",
      "3/3 [==============================] - 0s 1ms/step - loss: 0.0413 - mae: 0.1631\n",
      "Epoch 17/100\n",
      "3/3 [==============================] - 0s 1ms/step - loss: 0.0376 - mae: 0.1561\n",
      "Epoch 18/100\n",
      "3/3 [==============================] - 0s 2ms/step - loss: 0.0382 - mae: 0.1582\n",
      "Epoch 19/100\n",
      "3/3 [==============================] - 0s 1ms/step - loss: 0.0351 - mae: 0.1515\n",
      "Epoch 20/100\n",
      "3/3 [==============================] - 0s 1ms/step - loss: 0.0317 - mae: 0.1404\n",
      "Epoch 21/100\n",
      "3/3 [==============================] - 0s 2ms/step - loss: 0.0363 - mae: 0.1529\n",
      "Epoch 22/100\n",
      "3/3 [==============================] - 0s 2ms/step - loss: 0.0326 - mae: 0.1423\n",
      "Epoch 23/100\n",
      "3/3 [==============================] - 0s 998us/step - loss: 0.0409 - mae: 0.1622\n",
      "Epoch 24/100\n",
      "3/3 [==============================] - 0s 2ms/step - loss: 0.0329 - mae: 0.1423\n",
      "Epoch 25/100\n",
      "3/3 [==============================] - 0s 2ms/step - loss: 0.0356 - mae: 0.1430\n",
      "Epoch 26/100\n",
      "3/3 [==============================] - 0s 1ms/step - loss: 0.0343 - mae: 0.1418\n",
      "Epoch 27/100\n",
      "3/3 [==============================] - 0s 2ms/step - loss: 0.0316 - mae: 0.1390\n",
      "Epoch 28/100\n",
      "3/3 [==============================] - 0s 2ms/step - loss: 0.0335 - mae: 0.1406\n",
      "Epoch 29/100\n",
      "3/3 [==============================] - 0s 1ms/step - loss: 0.0295 - mae: 0.1304\n",
      "Epoch 30/100\n",
      "3/3 [==============================] - 0s 2ms/step - loss: 0.0300 - mae: 0.1329\n",
      "Epoch 31/100\n",
      "3/3 [==============================] - 0s 2ms/step - loss: 0.0310 - mae: 0.1314\n",
      "Epoch 32/100\n",
      "3/3 [==============================] - 0s 2ms/step - loss: 0.0281 - mae: 0.1284\n",
      "Epoch 33/100\n",
      "3/3 [==============================] - 0s 1ms/step - loss: 0.0319 - mae: 0.1310\n",
      "Epoch 34/100\n",
      "3/3 [==============================] - 0s 2ms/step - loss: 0.0242 - mae: 0.1165\n",
      "Epoch 35/100\n",
      "3/3 [==============================] - 0s 1ms/step - loss: 0.0263 - mae: 0.1213\n",
      "Epoch 36/100\n",
      "3/3 [==============================] - 0s 1ms/step - loss: 0.0274 - mae: 0.1216\n",
      "Epoch 37/100\n",
      "3/3 [==============================] - 0s 1ms/step - loss: 0.0274 - mae: 0.1280\n",
      "Epoch 38/100\n",
      "3/3 [==============================] - 0s 1ms/step - loss: 0.0255 - mae: 0.1185\n",
      "Epoch 39/100\n",
      "3/3 [==============================] - 0s 998us/step - loss: 0.0234 - mae: 0.1132\n",
      "Epoch 40/100\n",
      "3/3 [==============================] - 0s 2ms/step - loss: 0.0244 - mae: 0.1180\n",
      "Epoch 41/100\n",
      "3/3 [==============================] - 0s 1ms/step - loss: 0.0228 - mae: 0.1115\n",
      "Epoch 42/100\n",
      "3/3 [==============================] - 0s 925us/step - loss: 0.0259 - mae: 0.1195\n",
      "Epoch 43/100\n",
      "3/3 [==============================] - 0s 1ms/step - loss: 0.0239 - mae: 0.1158\n",
      "Epoch 44/100\n",
      "3/3 [==============================] - 0s 1ms/step - loss: 0.0240 - mae: 0.1139\n",
      "Epoch 45/100\n",
      "3/3 [==============================] - 0s 1ms/step - loss: 0.0216 - mae: 0.1047\n",
      "Epoch 46/100\n",
      "3/3 [==============================] - 0s 1ms/step - loss: 0.0239 - mae: 0.1089\n",
      "Epoch 47/100\n",
      "3/3 [==============================] - 0s 1ms/step - loss: 0.0195 - mae: 0.0985\n",
      "Epoch 48/100\n",
      "3/3 [==============================] - 0s 1ms/step - loss: 0.0215 - mae: 0.1050\n",
      "Epoch 49/100\n",
      "3/3 [==============================] - 0s 2ms/step - loss: 0.0229 - mae: 0.1060\n",
      "Epoch 50/100\n",
      "3/3 [==============================] - 0s 1ms/step - loss: 0.0199 - mae: 0.1007\n",
      "Epoch 51/100\n",
      "3/3 [==============================] - 0s 1ms/step - loss: 0.0201 - mae: 0.0965\n",
      "Epoch 52/100\n",
      "3/3 [==============================] - 0s 1ms/step - loss: 0.0168 - mae: 0.0879\n",
      "Epoch 53/100\n",
      "3/3 [==============================] - 0s 2ms/step - loss: 0.0187 - mae: 0.0983\n",
      "Epoch 54/100\n",
      "3/3 [==============================] - 0s 2ms/step - loss: 0.0179 - mae: 0.0941\n",
      "Epoch 55/100\n",
      "3/3 [==============================] - 0s 2ms/step - loss: 0.0149 - mae: 0.0870\n",
      "Epoch 56/100\n",
      "3/3 [==============================] - 0s 3ms/step - loss: 0.0156 - mae: 0.0933\n",
      "Epoch 57/100\n",
      "3/3 [==============================] - 0s 1ms/step - loss: 0.0157 - mae: 0.0914\n",
      "Epoch 58/100\n",
      "3/3 [==============================] - 0s 2ms/step - loss: 0.0139 - mae: 0.0847\n",
      "Epoch 59/100\n",
      "3/3 [==============================] - 0s 2ms/step - loss: 0.0156 - mae: 0.0963\n",
      "Epoch 60/100\n",
      "3/3 [==============================] - 0s 1ms/step - loss: 0.0155 - mae: 0.0897\n",
      "Epoch 61/100\n",
      "3/3 [==============================] - 0s 1ms/step - loss: 0.0156 - mae: 0.0858\n",
      "Epoch 62/100\n",
      "3/3 [==============================] - 0s 831us/step - loss: 0.0153 - mae: 0.0861\n",
      "Epoch 63/100\n",
      "3/3 [==============================] - 0s 1ms/step - loss: 0.0146 - mae: 0.0824\n",
      "Epoch 64/100\n",
      "3/3 [==============================] - 0s 998us/step - loss: 0.0139 - mae: 0.0855\n",
      "Epoch 65/100\n",
      "3/3 [==============================] - 0s 997us/step - loss: 0.0137 - mae: 0.0823\n",
      "Epoch 66/100\n",
      "3/3 [==============================] - 0s 997us/step - loss: 0.0144 - mae: 0.0853\n",
      "Epoch 67/100\n",
      "3/3 [==============================] - 0s 1ms/step - loss: 0.0148 - mae: 0.0825\n",
      "Epoch 68/100\n",
      "3/3 [==============================] - 0s 997us/step - loss: 0.0121 - mae: 0.0786\n",
      "Epoch 69/100\n",
      "3/3 [==============================] - 0s 1ms/step - loss: 0.0103 - mae: 0.0753\n",
      "Epoch 70/100\n",
      "3/3 [==============================] - 0s 1ms/step - loss: 0.0112 - mae: 0.0807\n",
      "Epoch 71/100\n",
      "3/3 [==============================] - 0s 1ms/step - loss: 0.0112 - mae: 0.0821\n",
      "Epoch 72/100\n",
      "3/3 [==============================] - 0s 1ms/step - loss: 0.0086 - mae: 0.0675\n",
      "Epoch 73/100\n",
      "3/3 [==============================] - 0s 997us/step - loss: 0.0125 - mae: 0.0911\n",
      "Epoch 74/100\n",
      "3/3 [==============================] - 0s 1ms/step - loss: 0.0124 - mae: 0.0838\n",
      "Epoch 75/100\n",
      "3/3 [==============================] - 0s 997us/step - loss: 0.0101 - mae: 0.0747\n",
      "Epoch 76/100\n",
      "3/3 [==============================] - 0s 997us/step - loss: 0.0103 - mae: 0.0759\n",
      "Epoch 77/100\n",
      "3/3 [==============================] - 0s 2ms/step - loss: 0.0095 - mae: 0.0693\n",
      "Epoch 78/100\n",
      "3/3 [==============================] - 0s 997us/step - loss: 0.0111 - mae: 0.0761\n",
      "Epoch 79/100\n",
      "3/3 [==============================] - 0s 1ms/step - loss: 0.0118 - mae: 0.0785\n",
      "Epoch 80/100\n",
      "3/3 [==============================] - 0s 2ms/step - loss: 0.0096 - mae: 0.0739\n",
      "Epoch 81/100\n",
      "3/3 [==============================] - 0s 997us/step - loss: 0.0111 - mae: 0.0808\n",
      "Epoch 82/100\n",
      "3/3 [==============================] - 0s 1ms/step - loss: 0.0107 - mae: 0.0745\n",
      "Epoch 83/100\n",
      "3/3 [==============================] - 0s 2ms/step - loss: 0.0095 - mae: 0.0724\n",
      "Epoch 84/100\n",
      "3/3 [==============================] - 0s 997us/step - loss: 0.0085 - mae: 0.0683\n",
      "Epoch 85/100\n",
      "3/3 [==============================] - 0s 997us/step - loss: 0.0084 - mae: 0.0743\n",
      "Epoch 86/100\n",
      "3/3 [==============================] - 0s 2ms/step - loss: 0.0085 - mae: 0.0725\n",
      "Epoch 87/100\n",
      "3/3 [==============================] - 0s 998us/step - loss: 0.0098 - mae: 0.0767\n",
      "Epoch 88/100\n"
     ]
    },
    {
     "name": "stdout",
     "output_type": "stream",
     "text": [
      "3/3 [==============================] - 0s 1ms/step - loss: 0.0093 - mae: 0.0731\n",
      "Epoch 89/100\n",
      "3/3 [==============================] - 0s 1ms/step - loss: 0.0093 - mae: 0.0701\n",
      "Epoch 90/100\n",
      "3/3 [==============================] - 0s 1ms/step - loss: 0.0076 - mae: 0.0666\n",
      "Epoch 91/100\n",
      "3/3 [==============================] - 0s 1ms/step - loss: 0.0080 - mae: 0.0681\n",
      "Epoch 92/100\n",
      "3/3 [==============================] - 0s 997us/step - loss: 0.0084 - mae: 0.0709\n",
      "Epoch 93/100\n",
      "3/3 [==============================] - 0s 1ms/step - loss: 0.0090 - mae: 0.0770\n",
      "Epoch 94/100\n",
      "3/3 [==============================] - 0s 1ms/step - loss: 0.0077 - mae: 0.0622\n",
      "Epoch 95/100\n",
      "3/3 [==============================] - 0s 997us/step - loss: 0.0076 - mae: 0.0640\n",
      "Epoch 96/100\n",
      "3/3 [==============================] - 0s 997us/step - loss: 0.0070 - mae: 0.0638\n",
      "Epoch 97/100\n",
      "3/3 [==============================] - 0s 1ms/step - loss: 0.0083 - mae: 0.0732\n",
      "Epoch 98/100\n",
      "3/3 [==============================] - 0s 1ms/step - loss: 0.0075 - mae: 0.0676\n",
      "Epoch 99/100\n",
      "3/3 [==============================] - 0s 1ms/step - loss: 0.0075 - mae: 0.0694\n",
      "Epoch 100/100\n",
      "3/3 [==============================] - 0s 1ms/step - loss: 0.0079 - mae: 0.0640\n",
      "WARNING:tensorflow:11 out of the last 11 calls to <function Model.make_predict_function.<locals>.predict_function at 0x000001BFAE5FD310> triggered tf.function retracing. Tracing is expensive and the excessive number of tracings could be due to (1) creating @tf.function repeatedly in a loop, (2) passing tensors with different shapes, (3) passing Python objects instead of tensors. For (1), please define your @tf.function outside of the loop. For (2), @tf.function has experimental_relax_shapes=True option that relaxes argument shapes that can avoid unnecessary retracing. For (3), please refer to https://www.tensorflow.org/guide/function#controlling_retracing and https://www.tensorflow.org/api_docs/python/tf/function for  more details.\n"
     ]
    }
   ],
   "source": [
    "# Compile model.\n",
    "dff_model.compile(optimizer='rmsprop', \n",
    "              loss='mean_squared_error',\n",
    "              metrics=['mae'])\n",
    "\n",
    "# Fit the model to the training data.\n",
    "dff_model.fit(X_train, Y_train, epochs = EPOCHES, batch_size=BATCH_SIZE)\n",
    "\n",
    "# Carry out predictions on the test set.\n",
    "dff_predictions = dff_model.predict(X_test)"
   ]
  },
  {
   "cell_type": "code",
   "execution_count": 642,
   "id": "pointed-guyana",
   "metadata": {},
   "outputs": [],
   "source": [
    "# Scale values.\n",
    "dff_X_test_scaled = scaler.inverse_transform(dff_predictions)\n",
    "Y_test = Y_test.reshape(-1, 1)\n",
    "Y_test_scaled = scaler.inverse_transform(Y_test)"
   ]
  },
  {
   "cell_type": "code",
   "execution_count": 643,
   "id": "solved-identity",
   "metadata": {},
   "outputs": [],
   "source": [
    "def convert_to_classifier(values, debug=False):\n",
    "    binary_results = np.zeros(len(values) - 1)\n",
    "    for idx, val in enumerate(values):\n",
    "        if idx < 1:\n",
    "            continue\n",
    "        if values[idx] > values[idx - 1]:\n",
    "            binary_results[idx - 1] = 1\n",
    "            if debug:\n",
    "                print(f'Increase: {values[idx]} vs {values[idx - 1]}')\n",
    "        else:\n",
    "            if debug:\n",
    "                print(f'Decrease: {values[idx]} vs {values[idx - 1]}')\n",
    "            \n",
    "    return binary_results"
   ]
  },
  {
   "cell_type": "code",
   "execution_count": 644,
   "id": "american-joshua",
   "metadata": {},
   "outputs": [],
   "source": [
    "def calc_mda(test_binary, prediction_binary, debug=False):\n",
    "    correct_predictions = 0\n",
    "    for idx, val in enumerate(test_binary):\n",
    "        if debug:\n",
    "            print(f'Predicted: {prediction_binary[idx]} vs actual {test_binary[idx]}')\n",
    "        if prediction_binary[idx] == test_binary[idx]:\n",
    "            correct_predictions = correct_predictions + 1\n",
    "    \n",
    "    if debug:\n",
    "        print(f'Correct Predictions: {correct_predictions} out of {len(prediction_binary)}.')\n",
    "    \n",
    "    mda = correct_predictions / len(prediction_binary)\n",
    "    return mda"
   ]
  },
  {
   "cell_type": "code",
   "execution_count": 645,
   "id": "loved-audio",
   "metadata": {},
   "outputs": [],
   "source": [
    "dff_mse = mean_squared_error(dff_X_test_scaled, Y_test_scaled)\n",
    "prediction_binary = convert_to_classifier(dff_X_test_scaled, debug=False)\n",
    "test_binary = convert_to_classifier(Y_test_scaled, debug=False)\n",
    "mda = calc_mda(test_binary, prediction_binary)"
   ]
  },
  {
   "cell_type": "code",
   "execution_count": 646,
   "id": "recreational-alpha",
   "metadata": {},
   "outputs": [],
   "source": [
    "# Calculate recall.\n",
    "recall = recall_score(test_binary, prediction_binary)\n",
    "\n",
    "# Calculate precision.\n",
    "precision = precision_score(test_binary, prediction_binary)\n",
    "\n",
    "# Calculate f1_score.\n",
    "f1_score = f1_score(test_binary, prediction_binary)"
   ]
  },
  {
   "cell_type": "code",
   "execution_count": 647,
   "id": "sustained-cream",
   "metadata": {
    "scrolled": true
   },
   "outputs": [
    {
     "data": {
      "text/plain": [
       "0.25"
      ]
     },
     "execution_count": 647,
     "metadata": {},
     "output_type": "execute_result"
    }
   ],
   "source": [
    "recall"
   ]
  },
  {
   "cell_type": "code",
   "execution_count": 648,
   "id": "sought-survival",
   "metadata": {},
   "outputs": [
    {
     "data": {
      "text/plain": [
       "0.5"
      ]
     },
     "execution_count": 648,
     "metadata": {},
     "output_type": "execute_result"
    }
   ],
   "source": [
    "precision"
   ]
  },
  {
   "cell_type": "code",
   "execution_count": 649,
   "id": "indie-administrator",
   "metadata": {},
   "outputs": [
    {
     "data": {
      "text/plain": [
       "0.3333333333333333"
      ]
     },
     "execution_count": 649,
     "metadata": {},
     "output_type": "execute_result"
    }
   ],
   "source": [
    "f1_score"
   ]
  },
  {
   "cell_type": "code",
   "execution_count": 650,
   "id": "binding-seattle",
   "metadata": {},
   "outputs": [
    {
     "data": {
      "text/plain": [
       "0.5555555555555556"
      ]
     },
     "execution_count": 650,
     "metadata": {},
     "output_type": "execute_result"
    }
   ],
   "source": [
    "mda"
   ]
  },
  {
   "cell_type": "code",
   "execution_count": 651,
   "id": "inner-celtic",
   "metadata": {},
   "outputs": [
    {
     "data": {
      "text/plain": [
       "334.35609450687735"
      ]
     },
     "execution_count": 651,
     "metadata": {},
     "output_type": "execute_result"
    }
   ],
   "source": [
    "dff_mse"
   ]
  }
 ],
 "metadata": {
  "kernelspec": {
   "display_name": "Python 3",
   "language": "python",
   "name": "python3"
  },
  "language_info": {
   "codemirror_mode": {
    "name": "ipython",
    "version": 3
   },
   "file_extension": ".py",
   "mimetype": "text/x-python",
   "name": "python",
   "nbconvert_exporter": "python",
   "pygments_lexer": "ipython3",
   "version": "3.8.0"
  }
 },
 "nbformat": 4,
 "nbformat_minor": 5
}
