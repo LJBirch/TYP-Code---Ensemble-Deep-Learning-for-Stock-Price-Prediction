{
 "cells": [
  {
   "cell_type": "code",
   "execution_count": 505,
   "id": "fundamental-korean",
   "metadata": {},
   "outputs": [],
   "source": [
    "import numpy as np\n",
    "import pandas as pd\n",
    "import matplotlib.pyplot as plt\n",
    "\n",
    "from keras.models import Sequential, Model\n",
    "from keras.layers import Dense, Activation, Dropout, LSTM, GRU, Input\n",
    "\n",
    "from sklearn.model_selection import train_test_split\n",
    "from sklearn.preprocessing import MinMaxScaler\n",
    "from sklearn.metrics import mean_squared_error, recall_score, precision_score, f1_score"
   ]
  },
  {
   "cell_type": "code",
   "execution_count": 506,
   "id": "completed-married",
   "metadata": {},
   "outputs": [],
   "source": [
    "# Load in data from CSV.\n",
    "df = pd.read_csv(\"./data/source_price_alt.csv\");"
   ]
  },
  {
   "cell_type": "code",
   "execution_count": 507,
   "id": "received-internet",
   "metadata": {},
   "outputs": [],
   "source": [
    "# Convert index to date.\n",
    "df.index = df.date;\n",
    "df.drop('date', axis=1, inplace = True);"
   ]
  },
  {
   "cell_type": "code",
   "execution_count": 508,
   "id": "informative-market",
   "metadata": {},
   "outputs": [],
   "source": [
    "# Extract adjusted close column.\n",
    "adjust_close = df.iloc[:,-1].values; \n",
    "\n",
    "# Normalize adjusted close data.\n",
    "scaler = MinMaxScaler();\n",
    "scaled_adjust_close = scaler.fit_transform(adjust_close.reshape(-1,1));\n",
    "\n",
    "# Remove un-normalized column.\n",
    "source_data = df.drop(['Adj Close'], axis=1)\n",
    "\n",
    "# Set new column with normalized data.\n",
    "source_data[\"scaled_adj_close\"] = scaled_adjust_close"
   ]
  },
  {
   "cell_type": "code",
   "execution_count": 509,
   "id": "cutting-boulder",
   "metadata": {},
   "outputs": [],
   "source": [
    "# Split into train test split.\n",
    "train_validation_data, test_data = train_test_split(source_data, train_size=0.85, test_size=0.15, shuffle = False);"
   ]
  },
  {
   "cell_type": "code",
   "execution_count": 510,
   "id": "generic-inclusion",
   "metadata": {},
   "outputs": [],
   "source": [
    "validation_data = train_validation_data[83:];\n",
    "train_data = train_validation_data[:83];"
   ]
  },
  {
   "cell_type": "code",
   "execution_count": 511,
   "id": "wrapped-perception",
   "metadata": {},
   "outputs": [],
   "source": [
    "# Split data into input X and output Y, by splitting into 'n' past days as input X and `m` coming days as Y.\n",
    "def processData(data, look_back, forward_days,jump=1):\n",
    "    A,B = [],[]\n",
    "    for i in range(0, len(data) - look_back, jump):\n",
    "        A.append(data[i:(i + look_back)])\n",
    "        B.append(data[(i + look_back):(i + look_back + forward_days)])\n",
    "    return np.array(A), np.array(B)"
   ]
  },
  {
   "cell_type": "code",
   "execution_count": 512,
   "id": "proved-deployment",
   "metadata": {},
   "outputs": [],
   "source": [
    "# Set model configurations.\n",
    "look_back = 5\n",
    "forward_days = 1\n",
    "NUM_NEURONS = 25\n",
    "EPOCHES = 10\n",
    "BATCH_SIZE = 32\n",
    "DROUP_OUT = 0.2"
   ]
  },
  {
   "cell_type": "code",
   "execution_count": 513,
   "id": "mounted-disabled",
   "metadata": {},
   "outputs": [],
   "source": [
    "# Split into past and coming days.\n",
    "m_training_data = train_data.to_numpy()\n",
    "m_validation_data = validation_data.to_numpy()\n",
    "m_test_data = test_data.to_numpy()\n",
    "\n",
    "X_train, Y_train = processData(m_training_data, look_back, forward_days)\n",
    "X_validation, Y_validation = processData(m_validation_data, look_back, forward_days)\n",
    "X_test, Y_test = processData(m_test_data, look_back, forward_days)\n",
    "\n",
    "Y_train = Y_train[:,0,-1]\n",
    "Y_validation = Y_validation[:,0,-1]\n",
    "Y_test = Y_test[:,0,-1]"
   ]
  },
  {
   "cell_type": "code",
   "execution_count": 514,
   "id": "individual-valuable",
   "metadata": {},
   "outputs": [],
   "source": [
    "# Setup LSTM Model\n",
    "lstm_model = Sequential()\n",
    "\n",
    "# Input Layer\n",
    "lstm_model.add(LSTM(units=NUM_NEURONS, return_sequences = True, input_shape=(X_train.shape[1], X_train.shape[2])))\n",
    "lstm_model.add(Dropout(DROUP_OUT))\n",
    "\n",
    "# Hidden Layer 1\n",
    "lstm_model.add(LSTM(units=NUM_NEURONS, return_sequences = True))\n",
    "lstm_model.add(Dropout(DROUP_OUT))\n",
    "\n",
    "# Hidden Layer 2\n",
    "lstm_model.add(LSTM(units=NUM_NEURONS, return_sequences = True))\n",
    "lstm_model.add(Dropout(DROUP_OUT))\n",
    "\n",
    "# Hidden Layer 3\n",
    "lstm_model.add(LSTM(units=NUM_NEURONS))\n",
    "lstm_model.add(Dropout(DROUP_OUT))\n",
    "\n",
    "# Output Layer\n",
    "lstm_model.add(Dense(forward_days))"
   ]
  },
  {
   "cell_type": "code",
   "execution_count": 515,
   "id": "recorded-antibody",
   "metadata": {},
   "outputs": [
    {
     "name": "stdout",
     "output_type": "stream",
     "text": [
      "Epoch 1/10\n",
      "3/3 [==============================] - 7s 8ms/step - loss: 0.2791\n",
      "Epoch 2/10\n",
      "3/3 [==============================] - 0s 7ms/step - loss: 0.2371\n",
      "Epoch 3/10\n",
      "3/3 [==============================] - 0s 7ms/step - loss: 0.2223\n",
      "Epoch 4/10\n",
      "3/3 [==============================] - 0s 6ms/step - loss: 0.1945\n",
      "Epoch 5/10\n",
      "3/3 [==============================] - 0s 7ms/step - loss: 0.1739\n",
      "Epoch 6/10\n",
      "3/3 [==============================] - 0s 6ms/step - loss: 0.1352\n",
      "Epoch 7/10\n",
      "3/3 [==============================] - 0s 7ms/step - loss: 0.0975\n",
      "Epoch 8/10\n",
      "3/3 [==============================] - 0s 6ms/step - loss: 0.0558\n",
      "Epoch 9/10\n",
      "3/3 [==============================] - 0s 6ms/step - loss: 0.0559\n",
      "Epoch 10/10\n",
      "3/3 [==============================] - 0s 6ms/step - loss: 0.0536\n",
      "WARNING:tensorflow:11 out of the last 11 calls to <function Model.make_predict_function.<locals>.predict_function at 0x000001BF887448B0> triggered tf.function retracing. Tracing is expensive and the excessive number of tracings could be due to (1) creating @tf.function repeatedly in a loop, (2) passing tensors with different shapes, (3) passing Python objects instead of tensors. For (1), please define your @tf.function outside of the loop. For (2), @tf.function has experimental_relax_shapes=True option that relaxes argument shapes that can avoid unnecessary retracing. For (3), please refer to https://www.tensorflow.org/guide/function#controlling_retracing and https://www.tensorflow.org/api_docs/python/tf/function for  more details.\n"
     ]
    }
   ],
   "source": [
    "# Compile LSTM models.\n",
    "lstm_model.compile(loss='mean_squared_error', optimizer='adam')\n",
    "\n",
    "# Fit LSTM models to training set.\n",
    "lstm_model.fit(X_train, Y_train, epochs = EPOCHES, batch_size = BATCH_SIZE)\n",
    "\n",
    "# Generate predictions from test set.\n",
    "lstm_predictions = lstm_model.predict(X_test)"
   ]
  },
  {
   "cell_type": "code",
   "execution_count": 516,
   "id": "pointed-guyana",
   "metadata": {},
   "outputs": [],
   "source": [
    "# Scale values.\n",
    "lstm_X_test_scaled = scaler.inverse_transform(lstm_predictions)\n",
    "Y_test = Y_test.reshape(-1,1)\n",
    "Y_test_scaled = scaler.inverse_transform(Y_test)"
   ]
  },
  {
   "cell_type": "code",
   "execution_count": 517,
   "id": "solved-identity",
   "metadata": {},
   "outputs": [],
   "source": [
    "def convert_to_classifier(values, debug=False):\n",
    "    binary_results = np.zeros(len(values) - 1)\n",
    "    for idx, val in enumerate(values):\n",
    "        if idx < 1:\n",
    "            continue\n",
    "        if values[idx] > values[idx - 1]:\n",
    "            binary_results[idx - 1] = 1\n",
    "            if debug:\n",
    "                print(f'Increase: {values[idx]} vs {values[idx - 1]}')\n",
    "        else:\n",
    "            if debug:\n",
    "                print(f'Decrease: {values[idx]} vs {values[idx - 1]}')\n",
    "            \n",
    "    return binary_results"
   ]
  },
  {
   "cell_type": "code",
   "execution_count": 518,
   "id": "american-joshua",
   "metadata": {},
   "outputs": [],
   "source": [
    "def calc_mda(test_binary, prediction_binary, debug=False):\n",
    "    correct_predictions = 0\n",
    "    for idx, val in enumerate(test_binary):\n",
    "        if debug:\n",
    "            print(f'Predicted: {prediction_binary[idx]} vs actual {test_binary[idx]}')\n",
    "        if prediction_binary[idx] == test_binary[idx]:\n",
    "            correct_predictions = correct_predictions + 1\n",
    "    \n",
    "    if debug:\n",
    "        print(f'Correct Predictions: {correct_predictions} out of {len(prediction_binary)}.')\n",
    "    \n",
    "    mda = correct_predictions / len(prediction_binary)\n",
    "    return mda"
   ]
  },
  {
   "cell_type": "code",
   "execution_count": 519,
   "id": "loved-audio",
   "metadata": {},
   "outputs": [],
   "source": [
    "lstm_mse = mean_squared_error(lstm_X_test_scaled, Y_test_scaled)\n",
    "prediction_binary = convert_to_classifier(lstm_X_test_scaled, debug=False)\n",
    "test_binary = convert_to_classifier(Y_test_scaled, debug=False)\n",
    "mda = calc_mda(test_binary, prediction_binary)\n"
   ]
  },
  {
   "cell_type": "code",
   "execution_count": 520,
   "id": "recreational-alpha",
   "metadata": {},
   "outputs": [],
   "source": [
    "# Calculate recall.\n",
    "recall = recall_score(test_binary, prediction_binary)\n",
    "\n",
    "# Calculate precision.\n",
    "precision = precision_score(test_binary, prediction_binary)\n",
    "\n",
    "# Calculate f1_score.\n",
    "f1_score = f1_score(test_binary, prediction_binary)"
   ]
  },
  {
   "cell_type": "code",
   "execution_count": 521,
   "id": "sustained-cream",
   "metadata": {
    "scrolled": true
   },
   "outputs": [
    {
     "data": {
      "text/plain": [
       "0.4"
      ]
     },
     "execution_count": 521,
     "metadata": {},
     "output_type": "execute_result"
    }
   ],
   "source": [
    "recall"
   ]
  },
  {
   "cell_type": "code",
   "execution_count": 522,
   "id": "sought-survival",
   "metadata": {},
   "outputs": [
    {
     "data": {
      "text/plain": [
       "0.2857142857142857"
      ]
     },
     "execution_count": 522,
     "metadata": {},
     "output_type": "execute_result"
    }
   ],
   "source": [
    "precision"
   ]
  },
  {
   "cell_type": "code",
   "execution_count": 523,
   "id": "indie-administrator",
   "metadata": {},
   "outputs": [
    {
     "data": {
      "text/plain": [
       "0.3333333333333333"
      ]
     },
     "execution_count": 523,
     "metadata": {},
     "output_type": "execute_result"
    }
   ],
   "source": [
    "f1_score"
   ]
  },
  {
   "cell_type": "code",
   "execution_count": 524,
   "id": "binding-seattle",
   "metadata": {},
   "outputs": [
    {
     "data": {
      "text/plain": [
       "0.38461538461538464"
      ]
     },
     "execution_count": 524,
     "metadata": {},
     "output_type": "execute_result"
    }
   ],
   "source": [
    "mda"
   ]
  },
  {
   "cell_type": "code",
   "execution_count": 525,
   "id": "inner-celtic",
   "metadata": {},
   "outputs": [
    {
     "data": {
      "text/plain": [
       "1059.5492302373573"
      ]
     },
     "execution_count": 525,
     "metadata": {},
     "output_type": "execute_result"
    }
   ],
   "source": [
    "lstm_mse"
   ]
  },
  {
   "cell_type": "code",
   "execution_count": null,
   "id": "expected-pollution",
   "metadata": {},
   "outputs": [],
   "source": []
  }
 ],
 "metadata": {
  "kernelspec": {
   "display_name": "Python 3",
   "language": "python",
   "name": "python3"
  },
  "language_info": {
   "codemirror_mode": {
    "name": "ipython",
    "version": 3
   },
   "file_extension": ".py",
   "mimetype": "text/x-python",
   "name": "python",
   "nbconvert_exporter": "python",
   "pygments_lexer": "ipython3",
   "version": "3.8.0"
  }
 },
 "nbformat": 4,
 "nbformat_minor": 5
}
