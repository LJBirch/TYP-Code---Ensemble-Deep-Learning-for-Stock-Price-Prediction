{
 "cells": [
  {
   "cell_type": "code",
   "execution_count": 547,
   "id": "fundamental-korean",
   "metadata": {},
   "outputs": [],
   "source": [
    "import numpy as np\n",
    "import pandas as pd\n",
    "import matplotlib.pyplot as plt\n",
    "\n",
    "from keras.models import Sequential, Model\n",
    "from keras.layers import Dense, Activation, Dropout, RNN, SimpleRNNCell, Input\n",
    "\n",
    "from sklearn.model_selection import train_test_split\n",
    "from sklearn.preprocessing import MinMaxScaler\n",
    "from sklearn.metrics import mean_squared_error, recall_score, precision_score, f1_score"
   ]
  },
  {
   "cell_type": "code",
   "execution_count": 548,
   "id": "completed-married",
   "metadata": {},
   "outputs": [],
   "source": [
    "# Load in data from CSV.\n",
    "df = pd.read_csv(\"./data/source_price_alt.csv\");"
   ]
  },
  {
   "cell_type": "code",
   "execution_count": 549,
   "id": "received-internet",
   "metadata": {},
   "outputs": [],
   "source": [
    "# Convert index to date.\n",
    "df.index = df.date;\n",
    "df.drop('date', axis=1, inplace = True);"
   ]
  },
  {
   "cell_type": "code",
   "execution_count": 550,
   "id": "informative-market",
   "metadata": {},
   "outputs": [],
   "source": [
    "# Extract adjusted close column.\n",
    "adjust_close = df.iloc[:,-1].values; \n",
    "\n",
    "# Normalize adjusted close data.\n",
    "scaler = MinMaxScaler();\n",
    "scaled_adjust_close = scaler.fit_transform(adjust_close.reshape(-1,1));\n",
    "\n",
    "# Remove un-normalized column.\n",
    "source_data = df.drop(['Adj Close'], axis=1)\n",
    "\n",
    "# Set new column with normalized data.\n",
    "source_data[\"scaled_adj_close\"] = scaled_adjust_close"
   ]
  },
  {
   "cell_type": "code",
   "execution_count": 551,
   "id": "cutting-boulder",
   "metadata": {},
   "outputs": [],
   "source": [
    "# Split into train test split.\n",
    "train_validation_data, test_data = train_test_split(source_data, train_size=0.85, test_size=0.15, shuffle = False);"
   ]
  },
  {
   "cell_type": "code",
   "execution_count": 552,
   "id": "generic-inclusion",
   "metadata": {},
   "outputs": [],
   "source": [
    "validation_data = train_validation_data[83:];\n",
    "train_data = train_validation_data[:83];"
   ]
  },
  {
   "cell_type": "code",
   "execution_count": 553,
   "id": "wrapped-perception",
   "metadata": {},
   "outputs": [],
   "source": [
    "# Split data into input X and output Y, by splitting into 'n' past days as input X and `m` coming days as Y.\n",
    "def processData(data, look_back, forward_days,jump=1):\n",
    "    A,B = [],[]\n",
    "    for i in range(0, len(data) - look_back, jump):\n",
    "        A.append(data[i:(i + look_back)])\n",
    "        B.append(data[(i + look_back):(i + look_back + forward_days)])\n",
    "    return np.array(A), np.array(B)"
   ]
  },
  {
   "cell_type": "code",
   "execution_count": 554,
   "id": "proved-deployment",
   "metadata": {},
   "outputs": [],
   "source": [
    "# Set model configurations.\n",
    "look_back = 5\n",
    "forward_days = 1\n",
    "NUM_NEURONS = 25\n",
    "EPOCHES = 100\n",
    "BATCH_SIZE = 32\n",
    "DROUP_OUT = 0.2"
   ]
  },
  {
   "cell_type": "code",
   "execution_count": 555,
   "id": "mounted-disabled",
   "metadata": {},
   "outputs": [],
   "source": [
    "# Split into past and coming days.\n",
    "m_training_data = train_data.to_numpy()\n",
    "m_validation_data = validation_data.to_numpy()\n",
    "m_test_data = test_data.to_numpy()\n",
    "\n",
    "X_train, Y_train = processData(m_training_data, look_back, forward_days)\n",
    "X_validation, Y_validation = processData(m_validation_data, look_back, forward_days)\n",
    "X_test, Y_test = processData(m_test_data, look_back, forward_days)\n",
    "\n",
    "Y_train = Y_train[:,0,-1]\n",
    "Y_validation = Y_validation[:,0,-1]\n",
    "Y_test = Y_test[:,0,-1]"
   ]
  },
  {
   "cell_type": "code",
   "execution_count": 556,
   "id": "individual-valuable",
   "metadata": {},
   "outputs": [],
   "source": [
    "# Setup RNN Model\n",
    "rnn_model = Sequential()\n",
    "\n",
    "# First Layer\n",
    "rnn_model.add(RNN(SimpleRNNCell(NUM_NEURONS), return_sequences = True, input_shape = (X_train.shape[1], X_train.shape[2])))\n",
    "rnn_model.add(Dropout(DROUP_OUT))\n",
    "\n",
    "# Second Layer\n",
    "rnn_model.add(RNN(SimpleRNNCell(NUM_NEURONS), return_sequences = True))\n",
    "rnn_model.add(Dropout(DROUP_OUT))\n",
    "\n",
    "# Third Layer\n",
    "rnn_model.add(RNN(SimpleRNNCell(NUM_NEURONS), return_sequences = True))\n",
    "rnn_model.add(Dropout(DROUP_OUT))\n",
    "\n",
    "# Fourth Layer\n",
    "rnn_model.add(RNN(SimpleRNNCell(NUM_NEURONS)))\n",
    "rnn_model.add(Dropout(DROUP_OUT))\n",
    "\n",
    "# Output Layer\n",
    "rnn_model.add(Dense(forward_days))\n"
   ]
  },
  {
   "cell_type": "code",
   "execution_count": 557,
   "id": "recorded-antibody",
   "metadata": {},
   "outputs": [
    {
     "name": "stdout",
     "output_type": "stream",
     "text": [
      "Epoch 1/100\n",
      "3/3 [==============================] - 3s 4ms/step - loss: 0.4887\n",
      "Epoch 2/100\n",
      "3/3 [==============================] - 0s 4ms/step - loss: 0.3546\n",
      "Epoch 3/100\n",
      "3/3 [==============================] - 0s 4ms/step - loss: 0.3932\n",
      "Epoch 4/100\n",
      "3/3 [==============================] - 0s 4ms/step - loss: 0.3197\n",
      "Epoch 5/100\n",
      "3/3 [==============================] - 0s 5ms/step - loss: 0.3239\n",
      "Epoch 6/100\n",
      "3/3 [==============================] - 0s 4ms/step - loss: 0.3017\n",
      "Epoch 7/100\n",
      "3/3 [==============================] - 0s 4ms/step - loss: 0.2663\n",
      "Epoch 8/100\n",
      "3/3 [==============================] - 0s 4ms/step - loss: 0.1602\n",
      "Epoch 9/100\n",
      "3/3 [==============================] - 0s 4ms/step - loss: 0.2190\n",
      "Epoch 10/100\n",
      "3/3 [==============================] - 0s 4ms/step - loss: 0.2160\n",
      "Epoch 11/100\n",
      "3/3 [==============================] - 0s 3ms/step - loss: 0.2171\n",
      "Epoch 12/100\n",
      "3/3 [==============================] - 0s 4ms/step - loss: 0.1854\n",
      "Epoch 13/100\n",
      "3/3 [==============================] - 0s 4ms/step - loss: 0.2565\n",
      "Epoch 14/100\n",
      "3/3 [==============================] - 0s 3ms/step - loss: 0.2208\n",
      "Epoch 15/100\n",
      "3/3 [==============================] - 0s 3ms/step - loss: 0.2537\n",
      "Epoch 16/100\n",
      "3/3 [==============================] - 0s 3ms/step - loss: 0.1489\n",
      "Epoch 17/100\n",
      "3/3 [==============================] - 0s 3ms/step - loss: 0.2148\n",
      "Epoch 18/100\n",
      "3/3 [==============================] - 0s 3ms/step - loss: 0.1898\n",
      "Epoch 19/100\n",
      "3/3 [==============================] - 0s 3ms/step - loss: 0.2281\n",
      "Epoch 20/100\n",
      "3/3 [==============================] - 0s 3ms/step - loss: 0.1725\n",
      "Epoch 21/100\n",
      "3/3 [==============================] - 0s 4ms/step - loss: 0.1661\n",
      "Epoch 22/100\n",
      "3/3 [==============================] - 0s 4ms/step - loss: 0.1701\n",
      "Epoch 23/100\n",
      "3/3 [==============================] - 0s 3ms/step - loss: 0.1577\n",
      "Epoch 24/100\n",
      "3/3 [==============================] - 0s 3ms/step - loss: 0.1431\n",
      "Epoch 25/100\n",
      "3/3 [==============================] - 0s 4ms/step - loss: 0.2027\n",
      "Epoch 26/100\n",
      "3/3 [==============================] - 0s 3ms/step - loss: 0.1471\n",
      "Epoch 27/100\n",
      "3/3 [==============================] - 0s 4ms/step - loss: 0.1833\n",
      "Epoch 28/100\n",
      "3/3 [==============================] - 0s 4ms/step - loss: 0.1110\n",
      "Epoch 29/100\n",
      "3/3 [==============================] - 0s 3ms/step - loss: 0.1379\n",
      "Epoch 30/100\n",
      "3/3 [==============================] - 0s 4ms/step - loss: 0.1190\n",
      "Epoch 31/100\n",
      "3/3 [==============================] - 0s 3ms/step - loss: 0.1311\n",
      "Epoch 32/100\n",
      "3/3 [==============================] - 0s 4ms/step - loss: 0.1007\n",
      "Epoch 33/100\n",
      "3/3 [==============================] - 0s 4ms/step - loss: 0.1094\n",
      "Epoch 34/100\n",
      "3/3 [==============================] - 0s 3ms/step - loss: 0.0974\n",
      "Epoch 35/100\n",
      "3/3 [==============================] - 0s 4ms/step - loss: 0.1040\n",
      "Epoch 36/100\n",
      "3/3 [==============================] - 0s 4ms/step - loss: 0.1305\n",
      "Epoch 37/100\n",
      "3/3 [==============================] - 0s 3ms/step - loss: 0.1212\n",
      "Epoch 38/100\n",
      "3/3 [==============================] - 0s 3ms/step - loss: 0.1264\n",
      "Epoch 39/100\n",
      "3/3 [==============================] - 0s 3ms/step - loss: 0.0964\n",
      "Epoch 40/100\n",
      "3/3 [==============================] - 0s 3ms/step - loss: 0.0810\n",
      "Epoch 41/100\n",
      "3/3 [==============================] - 0s 5ms/step - loss: 0.0917\n",
      "Epoch 42/100\n",
      "3/3 [==============================] - 0s 4ms/step - loss: 0.1469\n",
      "Epoch 43/100\n",
      "3/3 [==============================] - 0s 4ms/step - loss: 0.0778\n",
      "Epoch 44/100\n",
      "3/3 [==============================] - 0s 4ms/step - loss: 0.0925\n",
      "Epoch 45/100\n",
      "3/3 [==============================] - 0s 4ms/step - loss: 0.0962\n",
      "Epoch 46/100\n",
      "3/3 [==============================] - 0s 4ms/step - loss: 0.0639\n",
      "Epoch 47/100\n",
      "3/3 [==============================] - 0s 4ms/step - loss: 0.1229\n",
      "Epoch 48/100\n",
      "3/3 [==============================] - 0s 3ms/step - loss: 0.0592\n",
      "Epoch 49/100\n",
      "3/3 [==============================] - 0s 3ms/step - loss: 0.0801\n",
      "Epoch 50/100\n",
      "3/3 [==============================] - 0s 5ms/step - loss: 0.0793\n",
      "Epoch 51/100\n",
      "3/3 [==============================] - 0s 5ms/step - loss: 0.0855\n",
      "Epoch 52/100\n",
      "3/3 [==============================] - 0s 5ms/step - loss: 0.0821\n",
      "Epoch 53/100\n",
      "3/3 [==============================] - 0s 4ms/step - loss: 0.0701\n",
      "Epoch 54/100\n",
      "3/3 [==============================] - 0s 4ms/step - loss: 0.0759\n",
      "Epoch 55/100\n",
      "3/3 [==============================] - 0s 3ms/step - loss: 0.0897\n",
      "Epoch 56/100\n",
      "3/3 [==============================] - 0s 3ms/step - loss: 0.0668\n",
      "Epoch 57/100\n",
      "3/3 [==============================] - 0s 4ms/step - loss: 0.0658\n",
      "Epoch 58/100\n",
      "3/3 [==============================] - 0s 3ms/step - loss: 0.0571\n",
      "Epoch 59/100\n",
      "3/3 [==============================] - 0s 4ms/step - loss: 0.0420\n",
      "Epoch 60/100\n",
      "3/3 [==============================] - 0s 5ms/step - loss: 0.0570\n",
      "Epoch 61/100\n",
      "3/3 [==============================] - 0s 4ms/step - loss: 0.0852\n",
      "Epoch 62/100\n",
      "3/3 [==============================] - 0s 3ms/step - loss: 0.0405\n",
      "Epoch 63/100\n",
      "3/3 [==============================] - 0s 3ms/step - loss: 0.0770\n",
      "Epoch 64/100\n",
      "3/3 [==============================] - 0s 3ms/step - loss: 0.0581\n",
      "Epoch 65/100\n",
      "3/3 [==============================] - 0s 3ms/step - loss: 0.0560\n",
      "Epoch 66/100\n",
      "3/3 [==============================] - 0s 3ms/step - loss: 0.0480\n",
      "Epoch 67/100\n",
      "3/3 [==============================] - 0s 3ms/step - loss: 0.0652\n",
      "Epoch 68/100\n",
      "3/3 [==============================] - 0s 4ms/step - loss: 0.0650\n",
      "Epoch 69/100\n",
      "3/3 [==============================] - 0s 3ms/step - loss: 0.0825\n",
      "Epoch 70/100\n",
      "3/3 [==============================] - 0s 4ms/step - loss: 0.0555\n",
      "Epoch 71/100\n",
      "3/3 [==============================] - 0s 4ms/step - loss: 0.0797\n",
      "Epoch 72/100\n",
      "3/3 [==============================] - 0s 3ms/step - loss: 0.0514\n",
      "Epoch 73/100\n",
      "3/3 [==============================] - 0s 3ms/step - loss: 0.0522\n",
      "Epoch 74/100\n",
      "3/3 [==============================] - 0s 3ms/step - loss: 0.0590\n",
      "Epoch 75/100\n",
      "3/3 [==============================] - 0s 3ms/step - loss: 0.0592\n",
      "Epoch 76/100\n",
      "3/3 [==============================] - 0s 3ms/step - loss: 0.0464\n",
      "Epoch 77/100\n",
      "3/3 [==============================] - 0s 4ms/step - loss: 0.0639\n",
      "Epoch 78/100\n",
      "3/3 [==============================] - 0s 3ms/step - loss: 0.0550\n",
      "Epoch 79/100\n",
      "3/3 [==============================] - 0s 3ms/step - loss: 0.0315\n",
      "Epoch 80/100\n",
      "3/3 [==============================] - 0s 3ms/step - loss: 0.0402\n",
      "Epoch 81/100\n",
      "3/3 [==============================] - 0s 3ms/step - loss: 0.0526\n",
      "Epoch 82/100\n",
      "3/3 [==============================] - 0s 3ms/step - loss: 0.0439\n",
      "Epoch 83/100\n",
      "3/3 [==============================] - 0s 3ms/step - loss: 0.0540\n",
      "Epoch 84/100\n",
      "3/3 [==============================] - 0s 3ms/step - loss: 0.0492\n",
      "Epoch 85/100\n",
      "3/3 [==============================] - 0s 3ms/step - loss: 0.0510\n",
      "Epoch 86/100\n",
      "3/3 [==============================] - 0s 3ms/step - loss: 0.0624\n",
      "Epoch 87/100\n",
      "3/3 [==============================] - 0s 3ms/step - loss: 0.0503\n",
      "Epoch 88/100\n",
      "3/3 [==============================] - 0s 3ms/step - loss: 0.0467\n",
      "Epoch 89/100\n",
      "3/3 [==============================] - 0s 3ms/step - loss: 0.0327\n",
      "Epoch 90/100\n",
      "3/3 [==============================] - 0s 4ms/step - loss: 0.0411\n",
      "Epoch 91/100\n",
      "3/3 [==============================] - 0s 3ms/step - loss: 0.0396\n",
      "Epoch 92/100\n",
      "3/3 [==============================] - 0s 3ms/step - loss: 0.0438\n",
      "Epoch 93/100\n",
      "3/3 [==============================] - 0s 3ms/step - loss: 0.0401\n",
      "Epoch 94/100\n",
      "3/3 [==============================] - 0s 3ms/step - loss: 0.0395\n",
      "Epoch 95/100\n",
      "3/3 [==============================] - 0s 3ms/step - loss: 0.0425\n",
      "Epoch 96/100\n",
      "3/3 [==============================] - 0s 3ms/step - loss: 0.0475\n",
      "Epoch 97/100\n",
      "3/3 [==============================] - 0s 3ms/step - loss: 0.0419\n",
      "Epoch 98/100\n",
      "3/3 [==============================] - 0s 3ms/step - loss: 0.0564\n",
      "Epoch 99/100\n",
      "3/3 [==============================] - 0s 3ms/step - loss: 0.0361\n",
      "Epoch 100/100\n",
      "3/3 [==============================] - 0s 3ms/step - loss: 0.0411\n",
      "WARNING:tensorflow:11 out of the last 11 calls to <function Model.make_predict_function.<locals>.predict_function at 0x00000164BE88C4C0> triggered tf.function retracing. Tracing is expensive and the excessive number of tracings could be due to (1) creating @tf.function repeatedly in a loop, (2) passing tensors with different shapes, (3) passing Python objects instead of tensors. For (1), please define your @tf.function outside of the loop. For (2), @tf.function has experimental_relax_shapes=True option that relaxes argument shapes that can avoid unnecessary retracing. For (3), please refer to https://www.tensorflow.org/guide/function#controlling_retracing and https://www.tensorflow.org/api_docs/python/tf/function for  more details.\n"
     ]
    }
   ],
   "source": [
    "# Compile RNN model.\n",
    "rnn_model.compile(loss='mean_squared_error',optimizer='rmsprop')\n",
    "\n",
    "# Fit RNN models to training set.\n",
    "rnn_model.fit(X_train, Y_train, epochs = EPOCHES, batch_size = BATCH_SIZE)\n",
    "\n",
    "# Generate predictions from test set.\n",
    "rnn_predictions = rnn_model.predict(X_test)"
   ]
  },
  {
   "cell_type": "code",
   "execution_count": 558,
   "id": "pointed-guyana",
   "metadata": {},
   "outputs": [
    {
     "data": {
      "text/plain": [
       "(14, 1)"
      ]
     },
     "execution_count": 558,
     "metadata": {},
     "output_type": "execute_result"
    }
   ],
   "source": [
    "# Scale values.\n",
    "rnn_X_test_scaled = scaler.inverse_transform(rnn_predictions)\n",
    "Y_test = Y_test.reshape(-1, 1)\n",
    "Y_test_scaled = scaler.inverse_transform(Y_test)\n",
    "rnn_X_test_scaled.shape"
   ]
  },
  {
   "cell_type": "code",
   "execution_count": 559,
   "id": "solved-identity",
   "metadata": {},
   "outputs": [],
   "source": [
    "def convert_to_classifier(values, debug=False):\n",
    "    binary_results = np.zeros(len(values) - 1)\n",
    "    for idx, val in enumerate(values):\n",
    "        if idx < 1:\n",
    "            continue\n",
    "        if values[idx] > values[idx - 1]:\n",
    "            binary_results[idx - 1] = 1\n",
    "            if debug:\n",
    "                print(f'Increase: {values[idx]} vs {values[idx - 1]}')\n",
    "        else:\n",
    "            if debug:\n",
    "                print(f'Decrease: {values[idx]} vs {values[idx - 1]}')\n",
    "            \n",
    "    return binary_results"
   ]
  },
  {
   "cell_type": "code",
   "execution_count": 560,
   "id": "american-joshua",
   "metadata": {},
   "outputs": [],
   "source": [
    "def calc_mda(test_binary, prediction_binary, debug=False):\n",
    "    correct_predictions = 0\n",
    "    for idx, val in enumerate(test_binary):\n",
    "        if debug:\n",
    "            print(f'Predicted: {prediction_binary[idx]} vs actual {test_binary[idx]}')\n",
    "        if prediction_binary[idx] == test_binary[idx]:\n",
    "            correct_predictions = correct_predictions + 1\n",
    "    \n",
    "    if debug:\n",
    "        print(f'Correct Predictions: {correct_predictions} out of {len(prediction_binary)}.')\n",
    "    \n",
    "    mda = correct_predictions / len(prediction_binary)\n",
    "    return mda"
   ]
  },
  {
   "cell_type": "code",
   "execution_count": 561,
   "id": "loved-audio",
   "metadata": {},
   "outputs": [],
   "source": [
    "rnn_mse = mean_squared_error(rnn_X_test_scaled, Y_test_scaled)\n",
    "prediction_binary = convert_to_classifier(rnn_X_test_scaled, debug=False)\n",
    "test_binary = convert_to_classifier(Y_test_scaled, debug=False)\n",
    "mda = calc_mda(test_binary, prediction_binary)\n"
   ]
  },
  {
   "cell_type": "code",
   "execution_count": 562,
   "id": "recreational-alpha",
   "metadata": {},
   "outputs": [],
   "source": [
    "# Calculate recall.\n",
    "recall = recall_score(test_binary, prediction_binary)\n",
    "\n",
    "# Calculate precision.\n",
    "precision = precision_score(test_binary, prediction_binary)\n",
    "\n",
    "# Calculate f1_score.\n",
    "f1_score = f1_score(test_binary, prediction_binary)"
   ]
  },
  {
   "cell_type": "code",
   "execution_count": 563,
   "id": "sustained-cream",
   "metadata": {
    "scrolled": true
   },
   "outputs": [
    {
     "data": {
      "text/plain": [
       "0.4"
      ]
     },
     "execution_count": 563,
     "metadata": {},
     "output_type": "execute_result"
    }
   ],
   "source": [
    "recall"
   ]
  },
  {
   "cell_type": "code",
   "execution_count": 564,
   "id": "sought-survival",
   "metadata": {},
   "outputs": [
    {
     "data": {
      "text/plain": [
       "0.2857142857142857"
      ]
     },
     "execution_count": 564,
     "metadata": {},
     "output_type": "execute_result"
    }
   ],
   "source": [
    "precision"
   ]
  },
  {
   "cell_type": "code",
   "execution_count": 565,
   "id": "indie-administrator",
   "metadata": {},
   "outputs": [
    {
     "data": {
      "text/plain": [
       "0.3333333333333333"
      ]
     },
     "execution_count": 565,
     "metadata": {},
     "output_type": "execute_result"
    }
   ],
   "source": [
    "f1_score"
   ]
  },
  {
   "cell_type": "code",
   "execution_count": 566,
   "id": "binding-seattle",
   "metadata": {},
   "outputs": [
    {
     "data": {
      "text/plain": [
       "0.38461538461538464"
      ]
     },
     "execution_count": 566,
     "metadata": {},
     "output_type": "execute_result"
    }
   ],
   "source": [
    "mda"
   ]
  },
  {
   "cell_type": "code",
   "execution_count": 567,
   "id": "inner-celtic",
   "metadata": {},
   "outputs": [
    {
     "data": {
      "text/plain": [
       "213.89393739980616"
      ]
     },
     "execution_count": 567,
     "metadata": {},
     "output_type": "execute_result"
    }
   ],
   "source": [
    "rnn_mse"
   ]
  }
 ],
 "metadata": {
  "kernelspec": {
   "display_name": "Python 3",
   "language": "python",
   "name": "python3"
  },
  "language_info": {
   "codemirror_mode": {
    "name": "ipython",
    "version": 3
   },
   "file_extension": ".py",
   "mimetype": "text/x-python",
   "name": "python",
   "nbconvert_exporter": "python",
   "pygments_lexer": "ipython3",
   "version": "3.8.0"
  }
 },
 "nbformat": 4,
 "nbformat_minor": 5
}
